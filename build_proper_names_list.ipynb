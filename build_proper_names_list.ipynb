{
 "metadata": {
  "name": "",
  "signature": "sha256:167c9182073c8c0a1289a7a3ba9f6ecc799c94ad2635d03625db8e2c0c3ab4dc"
 },
 "nbformat": 3,
 "nbformat_minor": 0,
 "worksheets": [
  {
   "cells": [
    {
     "cell_type": "code",
     "collapsed": false,
     "input": [
      "import os\n",
      "import re\n",
      "import sys"
     ],
     "language": "python",
     "metadata": {},
     "outputs": [],
     "prompt_number": 1
    },
    {
     "cell_type": "code",
     "collapsed": false,
     "input": [
      "phi5_path_rel = '~/cltk_data/compiled/phi5/'\n",
      "phi5_path_abs = os.path.expanduser(phi5_path_rel)\n",
      "phi5_files = os.listdir(phi5_path_abs)"
     ],
     "language": "python",
     "metadata": {},
     "outputs": [],
     "prompt_number": 2
    },
    {
     "cell_type": "code",
     "collapsed": false,
     "input": [
      "d = re.compile(r'([a-z]\\s)([A-Z][a-zA-Z0-9_]+)')"
     ],
     "language": "python",
     "metadata": {},
     "outputs": [],
     "prompt_number": 3
    },
    {
     "cell_type": "code",
     "collapsed": false,
     "input": [
      "names_list = []\n",
      "for phi5_file in phi5_files:\n",
      "    if phi5_file.startswith('LAT') and phi5_file.endswith('.txt'):\n",
      "        file_path = phi5_path_abs + phi5_file\n",
      "        with open(file_path) as f:\n",
      "            opened_txt = f.read()\n",
      "            propers = d.findall(opened_txt)\n",
      "            for name in propers:\n",
      "                names_list.append(name[1])"
     ],
     "language": "python",
     "metadata": {},
     "outputs": [],
     "prompt_number": 4
    },
    {
     "cell_type": "code",
     "collapsed": false,
     "input": [
      "sorted_alpha_set = sorted(set(names_list))"
     ],
     "language": "python",
     "metadata": {},
     "outputs": [],
     "prompt_number": 5
    },
    {
     "cell_type": "code",
     "collapsed": false,
     "input": [
      "newlines_str = '\\n'.join(sorted_alpha_set)"
     ],
     "language": "python",
     "metadata": {},
     "outputs": [],
     "prompt_number": 6
    },
    {
     "cell_type": "code",
     "collapsed": false,
     "input": [
      "with open('proper_names.txt', 'w') as f:\n",
      "    f.write(newlines_str)"
     ],
     "language": "python",
     "metadata": {},
     "outputs": [],
     "prompt_number": 7
    }
   ],
   "metadata": {}
  }
 ]
}